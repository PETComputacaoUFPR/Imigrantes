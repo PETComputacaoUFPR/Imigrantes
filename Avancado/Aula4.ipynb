{
 "cells": [
  {
   "cell_type": "markdown",
   "metadata": {
    "id": "BpGgLPI4zXjZ"
   },
   "source": [
    "Criado por: https://github.com/robertotomchak"
   ]
  },
  {
   "cell_type": "markdown",
   "metadata": {
    "id": "MZrDpTJzWK7A"
   },
   "source": [
    "# Loops"
   ]
  },
  {
   "cell_type": "code",
   "execution_count": 2,
   "metadata": {
    "executionInfo": {
     "elapsed": 941,
     "status": "ok",
     "timestamp": 1729308789940,
     "user": {
      "displayName": "Vinicius leon Paula",
      "userId": "03073509263140066033"
     },
     "user_tz": 180
    },
    "id": "WooeWq4qV8Hb"
   },
   "outputs": [],
   "source": [
    "# Loops com While\n",
    "inicio = 10\n",
    "while inicio >= 0:\n",
    "  print(inicio)\n",
    "  inicio = inicio - 1\n",
    "print(\"fim\")"
   ]
  },
  {
   "cell_type": "code",
   "execution_count": null,
   "metadata": {
    "colab": {
     "base_uri": "https://localhost:8080/"
    },
    "id": "4gMy7lWWWH-p",
    "outputId": "183a243e-a668-462a-c8cd-535e169ffaf4"
   },
   "outputs": [
    {
     "name": "stdout",
     "output_type": "stream",
     "text": [
      "0\n",
      "2\n",
      "4\n",
      "6\n",
      "8\n",
      "10\n",
      "12\n",
      "14\n",
      "16\n",
      "18\n",
      "fim\n"
     ]
    }
   ],
   "source": [
    "# Exercício 1: imprima todos os números pares menores que 20 (começando no 0)\n",
    "numero = 0\n",
    "while numero < 20:\n",
    "  print(numero)\n",
    "  numero += 2\n",
    "print(\"fim\")"
   ]
  },
  {
   "cell_type": "markdown",
   "metadata": {
    "id": "4Tk_Nd5DWO4a"
   },
   "source": [
    "# Listas"
   ]
  },
  {
   "cell_type": "markdown",
   "metadata": {
    "id": "FsVo8MjuWTXj"
   },
   "source": [
    "Uma lista é uma coleção de valores, geralmente do mesmo tipo (por exemplo, vários números juntos). Essa coleção possui uma ordem, ou seja, existe um primeiro item, um segundo item, etc."
   ]
  },
  {
   "cell_type": "code",
   "execution_count": 3,
   "metadata": {
    "colab": {
     "base_uri": "https://localhost:8080/"
    },
    "executionInfo": {
     "elapsed": 701,
     "status": "ok",
     "timestamp": 1729308802650,
     "user": {
      "displayName": "Vinicius leon Paula",
      "userId": "03073509263140066033"
     },
     "user_tz": 180
    },
    "id": "aKAKLH3CWKTi",
    "outputId": "2590fb78-8200-49b1-cd7d-b262a3722827"
   },
   "outputs": [
    {
     "name": "stdout",
     "output_type": "stream",
     "text": [
      "[90, 87, 65, 31]\n"
     ]
    }
   ],
   "source": [
    "# Exemplo de lista\n",
    "notas = [90, 87, 65, 31]\n",
    "print(notas)"
   ]
  },
  {
   "cell_type": "code",
   "execution_count": null,
   "metadata": {
    "colab": {
     "base_uri": "https://localhost:8080/"
    },
    "id": "BVTPQUKjW0t9",
    "outputId": "2107e363-d469-457d-ad04-6fc7751ff5aa"
   },
   "outputs": [
    {
     "name": "stdout",
     "output_type": "stream",
     "text": [
      "90\n"
     ]
    }
   ],
   "source": [
    "# Acessando valores de uma lista (primeiro item é posição 0, segundo é posiçao 1, ...)\n",
    "notas = [90, 87, 65, 31]\n",
    "print(notas[0])"
   ]
  },
  {
   "cell_type": "code",
   "execution_count": null,
   "metadata": {
    "colab": {
     "base_uri": "https://localhost:8080/"
    },
    "id": "Dh1-Pob3dAus",
    "outputId": "4cbe48ab-59dc-4344-d577-234f89c7c5d1"
   },
   "outputs": [
    {
     "name": "stdout",
     "output_type": "stream",
     "text": [
      "90\n",
      "87\n",
      "65\n",
      "31\n"
     ]
    }
   ],
   "source": [
    "# Acessando valores de uma lista usando while\n",
    "notas = [90, 87, 65, 31]\n",
    "i = 0\n",
    "while i < 4:\n",
    "  print(notas[i])\n",
    "  i = i + 1"
   ]
  },
  {
   "cell_type": "code",
   "execution_count": null,
   "metadata": {
    "colab": {
     "base_uri": "https://localhost:8080/"
    },
    "id": "T0p5YinrXFWT",
    "outputId": "d4170bb0-9213-4b49-ea59-e054b056d0e9"
   },
   "outputs": [
    {
     "name": "stdout",
     "output_type": "stream",
     "text": [
      "Sua nota foi 90\n",
      "Sua nota foi 87\n",
      "Sua nota foi 65\n",
      "Sua nota foi 31\n",
      "Sua nota foi 57\n",
      "Sua nota foi 21\n",
      "fim\n"
     ]
    }
   ],
   "source": [
    "# Acessando valores de uma lista usando for\n",
    "notas = [90, 87, 65, 31, 57, 21]\n",
    "for nota in notas:\n",
    "  print(f\"Sua nota foi {nota}\")\n",
    "print(\"fim\")"
   ]
  },
  {
   "cell_type": "code",
   "execution_count": null,
   "metadata": {
    "colab": {
     "base_uri": "https://localhost:8080/"
    },
    "id": "BblT8H_RXVSb",
    "outputId": "6b514ab7-39c3-44bb-ed7f-0db237719174"
   },
   "outputs": [
    {
     "name": "stdout",
     "output_type": "stream",
     "text": [
      "A quantidade de produtos com preço maior que 70 é 3.\n"
     ]
    }
   ],
   "source": [
    "# Exercício 2: usando uma lista de preços de produtos,\n",
    "# descubra quantos produtos tem preço maior que 70\n",
    "precos = [90, 15, 43, 71, 66, 74]\n",
    "limite = 70\n",
    "\n",
    "contador = 0\n",
    "for preco in precos:\n",
    "  if preco > limite:\n",
    "    contador += 1\n",
    "print(f\"A quantidade de produtos com preço maior que {limite} é {contador}.\")"
   ]
  },
  {
   "cell_type": "markdown",
   "metadata": {
    "id": "fQV3HPwbYC8x"
   },
   "source": [
    "# Métodos de Listas"
   ]
  },
  {
   "cell_type": "markdown",
   "metadata": {
    "id": "nxu1ztsAYDB5"
   },
   "source": [
    "Um método é uma função específica para aquele tipo de variável.\n",
    "\n",
    "Em python, as listas tem vários métodos úteis, que nos ajudam a fazer os cálculos.\n",
    "\n",
    "Para ver todos os métodos, entre em: https://www.w3schools.com/python/python_ref_list.asp"
   ]
  },
  {
   "cell_type": "code",
   "execution_count": null,
   "metadata": {
    "colab": {
     "base_uri": "https://localhost:8080/"
    },
    "id": "Zr71kiN0YAfm",
    "outputId": "f5be213d-15be-4400-81c0-b7f6aa02f3c0"
   },
   "outputs": [
    {
     "name": "stdout",
     "output_type": "stream",
     "text": [
      "[18, 90, 34, 50, 12]\n",
      "[18, 90, 34, 50, 12, 20]\n"
     ]
    }
   ],
   "source": [
    "# Adicionando elementos no final de uma lista\n",
    "idades = [18, 90, 34, 50, 12]\n",
    "print(idades)\n",
    "\n",
    "idades.append(20)\n",
    "print(idades)"
   ]
  },
  {
   "cell_type": "code",
   "execution_count": null,
   "metadata": {
    "colab": {
     "base_uri": "https://localhost:8080/"
    },
    "id": "4xrX_KQWjP3E",
    "outputId": "a8a53794-ef75-44e6-f541-423c0a8f939d"
   },
   "outputs": [
    {
     "name": "stdout",
     "output_type": "stream",
     "text": [
      "[90, 17, 10, 65, 43]\n"
     ]
    }
   ],
   "source": [
    "# Adicionando várias coisas\n",
    "idades = [90, 17]\n",
    "adicionar = [10, 65, 43]\n",
    "\n",
    "for idade in adicionar:\n",
    "  idades.append(idade)\n",
    "\n",
    "print(idades)"
   ]
  },
  {
   "cell_type": "code",
   "execution_count": null,
   "metadata": {
    "colab": {
     "base_uri": "https://localhost:8080/"
    },
    "id": "67CnrvdYZFyd",
    "outputId": "83ede1f7-18fb-4e39-b41d-9a28d0c4a291"
   },
   "outputs": [
    {
     "name": "stdout",
     "output_type": "stream",
     "text": [
      "6\n"
     ]
    }
   ],
   "source": [
    "# Tamanho de uma lista\n",
    "idades = [18, 90, 34, 50, 10, 12]\n",
    "tamanho = len(idades)\n",
    "print(tamanho)"
   ]
  },
  {
   "cell_type": "code",
   "execution_count": null,
   "metadata": {
    "colab": {
     "base_uri": "https://localhost:8080/"
    },
    "id": "s2MXs0R2YzCq",
    "outputId": "856d44e1-4502-4f27-c138-42c460abc3ed"
   },
   "outputs": [
    {
     "name": "stdout",
     "output_type": "stream",
     "text": [
      "1\n"
     ]
    }
   ],
   "source": [
    "# Contagem de um determinado valor\n",
    "niveis = [\"basico\", \"intermediario\", \"basico\", \"avancado\", \"intermediario\"]\n",
    "contagem = niveis.count(\"avancado\")\n",
    "print(contagem)"
   ]
  },
  {
   "cell_type": "code",
   "execution_count": null,
   "metadata": {
    "colab": {
     "base_uri": "https://localhost:8080/"
    },
    "id": "Ygzhq_T6oLR6",
    "outputId": "9f98ec2b-d9b7-4fab-e38d-92492c125522"
   },
   "outputs": [
    {
     "name": "stdout",
     "output_type": "stream",
     "text": [
      "gabriel está na lista\n"
     ]
    }
   ],
   "source": [
    "# Verificando se um valor existe na lista\n",
    "nomes = [\"gabriel\", \"nicolas\", \"pedro\", \"ana\", \"maria\"]\n",
    "if \"gabriel\" in nomes:\n",
    "  print(\"gabriel está na lista\")\n",
    "else:\n",
    "  print(\"gabriel não está na lista\")"
   ]
  },
  {
   "cell_type": "code",
   "execution_count": null,
   "metadata": {
    "colab": {
     "base_uri": "https://localhost:8080/"
    },
    "id": "r7DJqFzZZP6b",
    "outputId": "04881c3c-37fe-4187-eade-6c7d208d0952"
   },
   "outputs": [
    {
     "name": "stdout",
     "output_type": "stream",
     "text": [
      "['nicolas', 'pedro', 'ana', 'maria']\n"
     ]
    }
   ],
   "source": [
    "# Remove elemento de lista (só remove a primeira ocorrência)\n",
    "nomes = [\"gabriel\", \"nicolas\", \"pedro\", \"ana\", \"maria\"]\n",
    "nomes.remove(\"gabriel\")\n",
    "print(nomes)"
   ]
  },
  {
   "cell_type": "code",
   "execution_count": null,
   "metadata": {
    "colab": {
     "base_uri": "https://localhost:8080/"
    },
    "id": "bHamazXDn6R9",
    "outputId": "faf329db-55b6-4323-ccd9-00d4b782d087"
   },
   "outputs": [
    {
     "name": "stdout",
     "output_type": "stream",
     "text": [
      "['nicolas', 'pedro', 'ana', 'maria']\n"
     ]
    }
   ],
   "source": [
    "# Removendo todas as ocorrências do valor\n",
    "nomes = [\"gabriel\", \"nicolas\",\"gabriel\", \"pedro\", \"ana\", \"maria\"]\n",
    "while nomes.count(\"gabriel\") > 0:\n",
    "  nomes.remove(\"gabriel\")\n",
    "print(nomes)"
   ]
  },
  {
   "cell_type": "code",
   "execution_count": null,
   "metadata": {
    "colab": {
     "base_uri": "https://localhost:8080/"
    },
    "id": "QWFPJ-ooZltD",
    "outputId": "5adb527c-4d7e-45af-df25-37f19b854c8a"
   },
   "outputs": [
    {
     "name": "stdout",
     "output_type": "stream",
     "text": [
      "68.49\n"
     ]
    }
   ],
   "source": [
    "# Soma de elementos de uma lista\n",
    "compras = [17.0, 25.99, 4.50, 21]\n",
    "total = sum(compras)\n",
    "print(total)"
   ]
  },
  {
   "cell_type": "code",
   "execution_count": null,
   "metadata": {
    "colab": {
     "base_uri": "https://localhost:8080/"
    },
    "id": "UkJgNsDmaLkM",
    "outputId": "9ff60798-782a-4293-dd55-0e64b449eff8"
   },
   "outputs": [
    {
     "name": "stdout",
     "output_type": "stream",
     "text": [
      "[4.5, 17.0, 21, 23.99]\n"
     ]
    }
   ],
   "source": [
    "# Ordenação crescente\n",
    "compras = [17.0, 23.99, 4.50, 21]\n",
    "compras.sort()\n",
    "print(compras)"
   ]
  },
  {
   "cell_type": "code",
   "execution_count": null,
   "metadata": {
    "colab": {
     "base_uri": "https://localhost:8080/"
    },
    "id": "FWODiiMNmUYw",
    "outputId": "dc87e8db-c896-4a89-b4b1-7cd3a5e0f329"
   },
   "outputs": [
    {
     "name": "stdout",
     "output_type": "stream",
     "text": [
      "[23.99, 21, 17.0, 4.5]\n"
     ]
    }
   ],
   "source": [
    "# Ordenacao decrescente\n",
    "compras = [17.0, 23.99, 4.50, 21]\n",
    "compras.sort(reverse=True)\n",
    "print(compras)"
   ]
  },
  {
   "cell_type": "code",
   "execution_count": null,
   "metadata": {
    "executionInfo": {
     "elapsed": 320,
     "status": "ok",
     "timestamp": 1729309203225,
     "user": {
      "displayName": "Vinicius leon Paula",
      "userId": "03073509263140066033"
     },
     "user_tz": 180
    },
    "id": "SE2REvP8ZtHm"
   },
   "outputs": [],
   "source": [
    "# Exercício 3: calcule a média das notas de uma turma, a partir da lista com essas notas\n",
    "notas = [70, 98, 54, 67, 92]\n",
    "media = sum(notas) / len(notas)\n",
    "print(media)"
   ]
  },
  {
   "cell_type": "markdown",
   "metadata": {
    "id": "9WI-ssaKakYQ"
   },
   "source": [
    "# Strings (Textos)"
   ]
  },
  {
   "cell_type": "markdown",
   "metadata": {
    "id": "kZoX-DSlakbS"
   },
   "source": [
    "Strings também são listas, e portanto muito dos métodos de listas podem ser usados com strings.\n",
    "\n",
    "Veja mais em: https://www.w3schools.com/python/python_ref_string.asp"
   ]
  },
  {
   "cell_type": "code",
   "execution_count": 11,
   "metadata": {
    "colab": {
     "base_uri": "https://localhost:8080/"
    },
    "executionInfo": {
     "elapsed": 405,
     "status": "ok",
     "timestamp": 1729309363827,
     "user": {
      "displayName": "Vinicius leon Paula",
      "userId": "03073509263140066033"
     },
     "user_tz": 180
    },
    "id": "Z1xudPYjah3T",
    "outputId": "730c2fed-f631-471f-8fed-591855aa2f11"
   },
   "outputs": [
    {
     "name": "stdout",
     "output_type": "stream",
     "text": [
      "p\n",
      "e\n",
      "t\n",
      " \n",
      "c\n",
      "o\n",
      "m\n",
      "p\n",
      "u\n",
      "t\n",
      "a\n",
      "ç\n",
      "ã\n",
      "o\n"
     ]
    }
   ],
   "source": [
    "# Loop com string\n",
    "nome = \"pet computação\"\n",
    "for letra in nome:\n",
    "  print(letra)"
   ]
  },
  {
   "cell_type": "code",
   "execution_count": 10,
   "metadata": {
    "colab": {
     "base_uri": "https://localhost:8080/"
    },
    "executionInfo": {
     "elapsed": 304,
     "status": "ok",
     "timestamp": 1729309345481,
     "user": {
      "displayName": "Vinicius leon Paula",
      "userId": "03073509263140066033"
     },
     "user_tz": 180
    },
    "id": "jGCFlt0qb7Ff",
    "outputId": "27bcd145-5c7a-4065-e9f6-9add27d43ec0"
   },
   "outputs": [
    {
     "name": "stdout",
     "output_type": "stream",
     "text": [
      "13\n"
     ]
    }
   ],
   "source": [
    "# Tamanho de string\n",
    "nome = \"petcomputação\"\n",
    "tamanho = len(nome)\n",
    "print(tamanho)"
   ]
  },
  {
   "cell_type": "code",
   "execution_count": 9,
   "metadata": {
    "colab": {
     "base_uri": "https://localhost:8080/"
    },
    "executionInfo": {
     "elapsed": 415,
     "status": "ok",
     "timestamp": 1729309330129,
     "user": {
      "displayName": "Vinicius leon Paula",
      "userId": "03073509263140066033"
     },
     "user_tz": 180
    },
    "id": "Jbjr1n5faxhQ",
    "outputId": "6544ed6c-ade3-4126-997f-157834c95517"
   },
   "outputs": [
    {
     "name": "stdout",
     "output_type": "stream",
     "text": [
      "pet computação\n",
      "PET COMPUTAÇÃO\n"
     ]
    }
   ],
   "source": [
    "# Transformando em minúsculo ou maiúsculo\n",
    "nome = \"pet computação\"\n",
    "nome_minusculo = nome.lower()\n",
    "print(nome_minusculo)\n",
    "\n",
    "nome_maisculo = nome.upper()\n",
    "print(nome_maisculo)"
   ]
  },
  {
   "cell_type": "code",
   "execution_count": 8,
   "metadata": {
    "colab": {
     "base_uri": "https://localhost:8080/"
    },
    "executionInfo": {
     "elapsed": 515,
     "status": "ok",
     "timestamp": 1729309306160,
     "user": {
      "displayName": "Vinicius leon Paula",
      "userId": "03073509263140066033"
     },
     "user_tz": 180
    },
    "id": "lzXoDzT_bQ1n",
    "outputId": "50a22b8d-1a3b-4d8c-ace9-497645dbb1e9"
   },
   "outputs": [
    {
     "name": "stdout",
     "output_type": "stream",
     "text": [
      "3\n"
     ]
    }
   ],
   "source": [
    "# Contando letra\n",
    "nome = \"ana leticia\"\n",
    "contagem = nome.count(\"a\")\n",
    "print(contagem)"
   ]
  },
  {
   "cell_type": "code",
   "execution_count": null,
   "metadata": {
    "colab": {
     "base_uri": "https://localhost:8080/"
    },
    "id": "HITLVOE9bdEq",
    "outputId": "9e095df1-6798-472a-c84d-4e988ecdc069"
   },
   "outputs": [
    {
     "name": "stdout",
     "output_type": "stream",
     "text": [
      "['roberto', 'sprengel', 'minozzo', 'tomchak']\n"
     ]
    }
   ],
   "source": [
    "# Podemos quebrar uma string em strings menores e guardar em uma lista\n",
    "nome = \"roberto sprengel minozzo tomchak\"\n",
    "separado = nome.split(\" \")\n",
    "print(separado)"
   ]
  },
  {
   "cell_type": "code",
   "execution_count": null,
   "metadata": {
    "executionInfo": {
     "elapsed": 316,
     "status": "ok",
     "timestamp": 1729309495201,
     "user": {
      "displayName": "Vinicius leon Paula",
      "userId": "03073509263140066033"
     },
     "user_tz": 180
    },
    "id": "X91F1dJdbpl_"
   },
   "outputs": [],
   "source": [
    "# Exercício 4: separe uma linha cujo valores estão separados por vírgula e\n",
    "# depois mostre quantos números temos\n",
    "linha = \"15,67,98,13,20\"\n",
    "separado = linha.split(\",\")\n",
    "quantidade = len(separado)\n",
    "print(quantidade)"
   ]
  },
  {
   "cell_type": "markdown",
   "metadata": {
    "id": "o0iOln06c4E3"
   },
   "source": [
    "# Exercícios"
   ]
  },
  {
   "cell_type": "code",
   "execution_count": null,
   "metadata": {
    "executionInfo": {
     "elapsed": 328,
     "status": "ok",
     "timestamp": 1729309514649,
     "user": {
      "displayName": "Vinicius leon Paula",
      "userId": "03073509263140066033"
     },
     "user_tz": 180
    },
    "id": "-w3eHZS_c3Zy"
   },
   "outputs": [],
   "source": [
    "# Conte quantas pessoas numa lista são maiores de idade\n",
    "idades = [10, 18, 19, 23, 14, 5, 76]\n",
    "contador = 0\n",
    "for idade in idades:\n",
    "  if idade >= 18:\n",
    "    contador += 1\n",
    "print(contador)\n"
   ]
  },
  {
   "cell_type": "code",
   "execution_count": null,
   "metadata": {
    "executionInfo": {
     "elapsed": 320,
     "status": "ok",
     "timestamp": 1729309540573,
     "user": {
      "displayName": "Vinicius leon Paula",
      "userId": "03073509263140066033"
     },
     "user_tz": 180
    },
    "id": "JEd6GboBc3dI"
   },
   "outputs": [],
   "source": [
    "# Usando while, imprima todos os números ímpares\n",
    "# entre 15 e 37 (incluindo esses)\n",
    "numero = 15\n",
    "while numero <= 37:\n",
    "  print(numero)\n",
    "  numero += 2\n",
    "\n",
    "# comentários do professor:\n",
    "# 1) lembre-se que a variável deve começar no 15, já que é o primeiro valor\n",
    "# que queremos escrever\n",
    "# 2) assim como os números pares, os ímpares aumentam de 2 em 2, por isso\n",
    "# usamos \"numero += 2\""
   ]
  },
  {
   "cell_type": "code",
   "execution_count": null,
   "metadata": {
    "colab": {
     "base_uri": "https://localhost:8080/"
    },
    "id": "qX-z-QtbdhC1",
    "outputId": "8b51be13-6a05-4be8-eaa6-61ec9410d1f2"
   },
   "outputs": [
    {
     "name": "stdout",
     "output_type": "stream",
     "text": [
      "roberto aparece 2 vezes na primeira lista\n",
      "julia aparece 1 vezes na primeira lista\n"
     ]
    }
   ],
   "source": [
    "# Você tem duas listas, uma com vários nomes e outra\n",
    "# com alguns nomes só\n",
    "# Para cada nome dessa segunda lista, imprima quantas\n",
    "# vezes ele aparece na primeira\n",
    "primeira = [\"gabriel\", \"roberto\", \"julia\", \"roberto\", \"maria\", \"maria\", \"nicolas\"]\n",
    "segunda = [\"roberto\", \"julia\"]\n",
    "\n",
    "for nome in segunda:\n",
    "  quantidade = primeira.count(nome)\n",
    "  print(f\"{nome} aparece {quantidade} vezes na primeira lista\")\n",
    "\n",
    "# comentários do professor:\n",
    "# 1) note que já no enunciado ele fala \"para cada nome da segunda lista\"\n",
    "# que basicamente é a versão traduzida de \"for nome in segunda\""
   ]
  }
 ],
 "metadata": {
  "colab": {
   "provenance": []
  },
  "kernelspec": {
   "display_name": "Python 3",
   "name": "python3"
  },
  "language_info": {
   "name": "python"
  }
 },
 "nbformat": 4,
 "nbformat_minor": 0
}
