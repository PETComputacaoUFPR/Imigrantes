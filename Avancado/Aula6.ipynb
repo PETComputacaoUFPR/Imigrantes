{
 "cells": [
  {
   "cell_type": "code",
   "execution_count": null,
   "metadata": {},
   "outputs": [],
   "source": [
    "Criado por: https://github.com/robertotomchak"
   ]
  },
  {
   "cell_type": "markdown",
   "metadata": {
    "id": "o8bmVJvqTIFA"
   },
   "source": [
    "# Exercícios da Última Aula"
   ]
  },
  {
   "cell_type": "code",
   "execution_count": 1,
   "metadata": {
    "colab": {
     "base_uri": "https://localhost:8080/"
    },
    "id": "vEU_McBBTCzM",
    "outputId": "1d233162-c8d2-46f5-ade5-8e19105c91bb"
   },
   "outputs": [
    {
     "name": "stdout",
     "output_type": "stream",
     "text": [
      "50.0%\n"
     ]
    }
   ],
   "source": [
    "# a lista abaixo diz se uma certa pessoa estava doente ou não\n",
    "# qual a porcentagem de doentes?\n",
    "doente = [True, False, False, False, True, True, False, True]\n",
    "\n",
    "doentes = doente.count(True)\n",
    "porcentagem = 100 * doentes / len(doente)\n",
    "print(f\"{round(porcentagem, 2)}%\")"
   ]
  },
  {
   "cell_type": "code",
   "execution_count": 2,
   "metadata": {
    "colab": {
     "base_uri": "https://localhost:8080/"
    },
    "id": "gspD4pl0TNLM",
    "outputId": "86fa8619-7854-4c2d-ca7d-caa930f262c9"
   },
   "outputs": [
    {
     "name": "stdout",
     "output_type": "stream",
     "text": [
      "75.0%\n"
     ]
    }
   ],
   "source": [
    "# abaixo estão duas listas\n",
    "# doente diz se a pessoa estava doente ou não\n",
    "# exame diz o que o resultado do exame disse sobre a pessoa\n",
    "# qual a acurácia desse teste?\n",
    "doente = [True, False, False, False, True, True, False, True]\n",
    "exame  = [True, True, False, False, False, True, False, True]\n",
    "\n",
    "correto = 0\n",
    "for i in range(len(doente)):\n",
    "  if doente[i] == exame[i]:\n",
    "    correto += 1\n",
    "\n",
    "acuracia = 100 * correto / len(doente)\n",
    "print(f\"{round(acuracia, 2)}%\")"
   ]
  },
  {
   "cell_type": "code",
   "execution_count": 3,
   "metadata": {
    "colab": {
     "base_uri": "https://localhost:8080/"
    },
    "id": "LqMroSAPTPBH",
    "outputId": "3970522c-57e1-4873-cebd-8fa778755831"
   },
   "outputs": [
    {
     "name": "stdout",
     "output_type": "stream",
     "text": [
      "Serão fechadas 5 lojas\n"
     ]
    }
   ],
   "source": [
    "# uma empresa decidiu fechar todas as lojas que tiveram\n",
    "# lucro abaixo da média\n",
    "# quantas lojas serão fechadas?\n",
    "lojas = [55, 10, 3, 50, 5, 30, 39, 1, 9]\n",
    "\n",
    "import statistics as stat\n",
    "media = stat.mean(lojas)\n",
    "contador = 0\n",
    "for loja in lojas:\n",
    "  if loja < media:\n",
    "    contador += 1\n",
    "print(f\"Serão fechadas {contador} lojas\")"
   ]
  },
  {
   "cell_type": "code",
   "execution_count": 4,
   "metadata": {
    "colab": {
     "base_uri": "https://localhost:8080/"
    },
    "id": "brfohBTqTRDd",
    "outputId": "86663b3d-dc4f-405e-9685-2c38a709c981"
   },
   "outputs": [
    {
     "name": "stdout",
     "output_type": "stream",
     "text": [
      "5\n"
     ]
    }
   ],
   "source": [
    "# o batimento cardíaco ideal em descanso é 70\n",
    "# mas se tiver uma margem de erro de até 25% ainda é aceitável\n",
    "# quantas pessoas estão com batimento dentro do aceitável?\n",
    "batimentos = [70, 90, 77, 81, 50, 60, 73]\n",
    "\n",
    "ideal = 70\n",
    "minimo = ideal * (1 - 0.25)\n",
    "maximo = ideal * (1 + 0.25)\n",
    "\n",
    "contador = 0\n",
    "for batimento in batimentos:\n",
    "  if batimento >= minimo and batimento <= maximo:\n",
    "    contador += 1\n",
    "print(contador)"
   ]
  },
  {
   "cell_type": "markdown",
   "metadata": {
    "id": "o0lWymVoTdpo"
   },
   "source": [
    "# Novos Exercícios"
   ]
  },
  {
   "cell_type": "code",
   "execution_count": 5,
   "metadata": {
    "colab": {
     "base_uri": "https://localhost:8080/"
    },
    "id": "oMQxv-TbTTMj",
    "outputId": "e34096f7-a76d-459e-eb31-5ac2e0f7b392"
   },
   "outputs": [
    {
     "name": "stdout",
     "output_type": "stream",
     "text": [
      "turma 1\n"
     ]
    }
   ],
   "source": [
    "# Exercício 1: qual das turmas a seguir tem a maior idade média?\n",
    "turma1 = [20, 22, 21, 23, 20]\n",
    "turma2 = [22, 23, 21, 21, 18]\n",
    "\n",
    "media1 = stat.mean(turma1)\n",
    "media2 = stat.mean(turma2)\n",
    "\n",
    "if media1 > media2:\n",
    "  print(\"turma 1\")\n",
    "else:\n",
    "  print(\"turma 2\")"
   ]
  },
  {
   "cell_type": "code",
   "execution_count": 6,
   "metadata": {
    "colab": {
     "base_uri": "https://localhost:8080/"
    },
    "id": "hLUXDBgnU4mX",
    "outputId": "37f6cabb-fd68-4e00-f807-4b8ac32a9493"
   },
   "outputs": [
    {
     "name": "stdout",
     "output_type": "stream",
     "text": [
      "time 2 é melhor\n"
     ]
    }
   ],
   "source": [
    "# Exercício 2: qual dos dois times a seguir é melhor?\n",
    "# dados time1:\n",
    "vitorias1 = 20\n",
    "derrotas1 = 11\n",
    "\n",
    "#dados time2:\n",
    "vitorias2 = 13\n",
    "derrotas2 = 6\n",
    "\n",
    "\n",
    "porcentagem1 = vitorias1 / (vitorias1 + derrotas1)\n",
    "porcentagem2 = vitorias2 / (vitorias2 + derrotas2)\n",
    "\n",
    "if porcentagem1 > porcentagem2:\n",
    "  print(\"time 1 é melhor\")\n",
    "else:\n",
    "  print(\"time 2 é melhor\")"
   ]
  },
  {
   "cell_type": "code",
   "execution_count": 7,
   "metadata": {
    "colab": {
     "base_uri": "https://localhost:8080/"
    },
    "id": "dpA-ZRTKVcbO",
    "outputId": "a0ff5721-b505-41c9-dd2e-238e48639274"
   },
   "outputs": [
    {
     "name": "stdout",
     "output_type": "stream",
     "text": [
      "6\n"
     ]
    }
   ],
   "source": [
    "# Exercício 3: a lista a seguir tem a idade de várias pessoas numa festa\n",
    "# qual a porcentagem de maiores de idade na festa?\n",
    "idades = [18, 19, 22, 17, 13, 20, 15, 16, 16, 23, 29]\n",
    "\n",
    "contador = 0\n",
    "for idade in idades:\n",
    "  if idade >= 18:\n",
    "    contador += 1\n",
    "print(contador)"
   ]
  },
  {
   "cell_type": "code",
   "execution_count": 12,
   "metadata": {
    "colab": {
     "base_uri": "https://localhost:8080/"
    },
    "id": "ll8-kMtmUioG",
    "outputId": "fb316821-c8d6-4227-d5d4-bdb7f483c34a"
   },
   "outputs": [
    {
     "name": "stdout",
     "output_type": "stream",
     "text": [
      "60.25\n"
     ]
    }
   ],
   "source": [
    "# Exercício 4: qual a média dos produtos que custam mais que 40?\n",
    "produtos = [23, 47, 62, 44, 21, 8, 19, 88]\n",
    "\n",
    "produtos40 = []\n",
    "for produto in produtos:\n",
    "  if produto > 40:\n",
    "    produtos40.append(produto)\n",
    "print(stat.mean(produtos40))"
   ]
  },
  {
   "cell_type": "code",
   "execution_count": 13,
   "metadata": {
    "colab": {
     "base_uri": "https://localhost:8080/"
    },
    "id": "sNBJbOAEWBR7",
    "outputId": "78067818-1c48-4a4d-f43e-dd965bb1ecd4"
   },
   "outputs": [
    {
     "name": "stdout",
     "output_type": "stream",
     "text": [
      "Média Original: 8731.421052631578\n",
      "Média sem Outliers: 5523.35294117647\n",
      "Esses são os outliers: [30000, 42000]\n"
     ]
    }
   ],
   "source": [
    "# Exercício 5: qual a média dos salários abaixo?\n",
    "# qual a média após removermos os outliers?\n",
    "# considere que um outlier é um número menor que (média - desvio padrão)\n",
    "# ou maior que (média + desvio padrão)\n",
    "salarios = [1200, 700, 30000, 5000, 13000, 6360, 8690, 1230, 1100, 1976, 10, 13000, 42000,\n",
    "            9600, 6000, 8500, 100, 8700, 8731]\n",
    "\n",
    "media = stat.mean(salarios)\n",
    "desvio = stat.stdev(salarios)\n",
    "\n",
    "print(f\"Média Original: {media}\")\n",
    "\n",
    "nao_outliers = []\n",
    "outliers = []\n",
    "for salario in salarios:\n",
    "  if salario < media - desvio or salario > media + desvio:\n",
    "    outliers.append(salario)\n",
    "  else:\n",
    "    nao_outliers.append(salario)\n",
    "nova_media = stat.mean(nao_outliers)\n",
    "print(f\"Média sem Outliers: {nova_media}\")\n",
    "print(f\"Esses são os outliers: {outliers}\")"
   ]
  },
  {
   "cell_type": "code",
   "execution_count": 15,
   "metadata": {
    "colab": {
     "base_uri": "https://localhost:8080/"
    },
    "id": "qTdbv0lZW-3d",
    "outputId": "5de52e8d-0a56-450a-9057-6dab01c14277"
   },
   "outputs": [
    {
     "name": "stdout",
     "output_type": "stream",
     "text": [
      "Mediana: 6360\n"
     ]
    }
   ],
   "source": [
    "# Exercício 6: calcule a mediana dos dados anteriores e compare com a média\n",
    "# após remover os outliers\n",
    "mediana = stat.median(salarios)\n",
    "print(f\"Mediana: {mediana}\")"
   ]
  },
  {
   "cell_type": "code",
   "execution_count": 16,
   "metadata": {
    "colab": {
     "base_uri": "https://localhost:8080/"
    },
    "id": "7Eyz-AsGXwgz",
    "outputId": "c16c5eb3-bb04-48d2-e0cc-c88b38a89af0"
   },
   "outputs": [
    {
     "name": "stdout",
     "output_type": "stream",
     "text": [
      "Acurácia: 87.0%\n",
      "Especificidade: 94.2%\n",
      "Sensibilidade: 65.79%\n"
     ]
    }
   ],
   "source": [
    "# Exercício 7: um certo exame médico para uma doença foi testado em 300 pessoas\n",
    "# 76 estão doentes, as outras não doentes\n",
    "# dos doentes, 50 receberam resultado positivo (e as outras negativo)\n",
    "# dos não doentes, apenas 13 receberam resultado positivo\n",
    "# qual a acurácia, especificidade e sensibilidade\n",
    "total = 300\n",
    "doentes = 76\n",
    "nao_doentes = total - doentes\n",
    "\n",
    "doentes_positivo = 50\n",
    "doentes_negativo = doentes - doentes_positivo\n",
    "\n",
    "nao_doentes_positivo = 13\n",
    "nao_doentes_negativo = nao_doentes - nao_doentes_positivo\n",
    "\n",
    "acuracia = 100 * (doentes_positivo + nao_doentes_negativo) / total\n",
    "especificidade = 100 * nao_doentes_negativo / nao_doentes\n",
    "sensibilidade = 100 * doentes_positivo / doentes\n",
    "print(f\"Acurácia: {round(acuracia, 2)}%\")\n",
    "print(f\"Especificidade: {round(especificidade, 2)}%\")\n",
    "print(f\"Sensibilidade: {round(sensibilidade, 2)}%\")\n"
   ]
  },
  {
   "cell_type": "code",
   "execution_count": null,
   "metadata": {
    "id": "LhxcEMeYc1Ud"
   },
   "outputs": [],
   "source": []
  }
 ],
 "metadata": {
  "colab": {
   "provenance": []
  },
  "kernelspec": {
   "display_name": "Python 3",
   "name": "python3"
  },
  "language_info": {
   "name": "python"
  }
 },
 "nbformat": 4,
 "nbformat_minor": 0
}
